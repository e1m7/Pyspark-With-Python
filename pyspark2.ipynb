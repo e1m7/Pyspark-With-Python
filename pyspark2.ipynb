{
  "nbformat": 4,
  "nbformat_minor": 0,
  "metadata": {
    "colab": {
      "provenance": [],
      "collapsed_sections": []
    },
    "kernelspec": {
      "name": "python3",
      "display_name": "Python 3"
    },
    "language_info": {
      "name": "python"
    }
  },
  "cells": [
    {
      "cell_type": "markdown",
      "source": [
        "# Работа с дата фреймом\n",
        "# Travailler avec le cadre de date"
      ],
      "metadata": {
        "id": "JpW-PP-WzdQr"
      }
    },
    {
      "cell_type": "markdown",
      "source": [
        "## Создание новой сессии и подключение файла с данными\n",
        "## Création d'une nouvelle session et connexion d'un fichier de données"
      ],
      "metadata": {
        "id": "zMZAVsZo57mO"
      }
    },
    {
      "cell_type": "code",
      "source": [
        "# установить библиотеку pyspark\n",
        "# installer la bibliothèque payspark\n",
        "!pip install pyspark"
      ],
      "metadata": {
        "id": "Eoja-CQr1dta",
        "colab": {
          "base_uri": "https://localhost:8080/"
        },
        "outputId": "048d04de-41a4-46f5-910a-a17f4de57c62"
      },
      "execution_count": 1,
      "outputs": [
        {
          "output_type": "stream",
          "name": "stdout",
          "text": [
            "Looking in indexes: https://pypi.org/simple, https://us-python.pkg.dev/colab-wheels/public/simple/\n",
            "Collecting pyspark\n",
            "  Downloading pyspark-3.3.0.tar.gz (281.3 MB)\n",
            "\u001b[K     |████████████████████████████████| 281.3 MB 48 kB/s \n",
            "\u001b[?25hCollecting py4j==0.10.9.5\n",
            "  Downloading py4j-0.10.9.5-py2.py3-none-any.whl (199 kB)\n",
            "\u001b[K     |████████████████████████████████| 199 kB 60.5 MB/s \n",
            "\u001b[?25hBuilding wheels for collected packages: pyspark\n",
            "  Building wheel for pyspark (setup.py) ... \u001b[?25l\u001b[?25hdone\n",
            "  Created wheel for pyspark: filename=pyspark-3.3.0-py2.py3-none-any.whl size=281764026 sha256=11108bd2d198aa4f97acd9548e9fa5e3eaa9ce86a02e327e8fb6428f20a87387\n",
            "  Stored in directory: /root/.cache/pip/wheels/7a/8e/1b/f73a52650d2e5f337708d9f6a1750d451a7349a867f928b885\n",
            "Successfully built pyspark\n",
            "Installing collected packages: py4j, pyspark\n",
            "Successfully installed py4j-0.10.9.5 pyspark-3.3.0\n"
          ]
        }
      ]
    },
    {
      "cell_type": "code",
      "source": [
        "# подключить библиотеку pyspark\n",
        "# connecter la bibliothèque pyspark\n",
        "import pyspark"
      ],
      "metadata": {
        "id": "ChwPdFv61nzR"
      },
      "execution_count": 2,
      "outputs": []
    },
    {
      "cell_type": "code",
      "source": [
        "# подключить библиотеку pandas\n",
        "# connecter la bibliothèque pandas\n",
        "import pandas as pd"
      ],
      "metadata": {
        "id": "PSupKPn-1q5t"
      },
      "execution_count": 3,
      "outputs": []
    },
    {
      "cell_type": "code",
      "execution_count": 4,
      "metadata": {
        "id": "I7H9vTXMzb7q"
      },
      "outputs": [],
      "source": [
        "# создать новую сессию\n",
        "# créer une nouvelle session\n",
        "from pyspark.sql import SparkSession"
      ]
    },
    {
      "cell_type": "code",
      "source": [
        "# создать переменную сессии\n",
        "# créer une variable de session\n",
        "spark = SparkSession.builder.appName('Practic').getOrCreate()"
      ],
      "metadata": {
        "id": "oGUaJW6i1VOH"
      },
      "execution_count": 5,
      "outputs": []
    },
    {
      "cell_type": "code",
      "source": [
        "# вывести на экран параметры сессии\n",
        "# afficher les paramètres de session\n",
        "spark"
      ],
      "metadata": {
        "id": "d3deL4Nn12iP",
        "colab": {
          "base_uri": "https://localhost:8080/",
          "height": 221
        },
        "outputId": "736334f9-31f3-48b2-f69a-dbc1d131d3ab"
      },
      "execution_count": 6,
      "outputs": [
        {
          "output_type": "execute_result",
          "data": {
            "text/plain": [
              "<pyspark.sql.session.SparkSession at 0x7f32b8b5ad10>"
            ],
            "text/html": [
              "\n",
              "            <div>\n",
              "                <p><b>SparkSession - in-memory</b></p>\n",
              "                \n",
              "        <div>\n",
              "            <p><b>SparkContext</b></p>\n",
              "\n",
              "            <p><a href=\"http://437f737d7058:4040\">Spark UI</a></p>\n",
              "\n",
              "            <dl>\n",
              "              <dt>Version</dt>\n",
              "                <dd><code>v3.3.0</code></dd>\n",
              "              <dt>Master</dt>\n",
              "                <dd><code>local[*]</code></dd>\n",
              "              <dt>AppName</dt>\n",
              "                <dd><code>Practic</code></dd>\n",
              "            </dl>\n",
              "        </div>\n",
              "        \n",
              "            </div>\n",
              "        "
            ]
          },
          "metadata": {},
          "execution_count": 6
        }
      ]
    },
    {
      "cell_type": "code",
      "source": [
        "# загрузить csv-файл в локальный каталог проекта\n",
        "# télécharger le fichier csv dans le répertoire de projet local\n",
        "from google.colab import files\n",
        "uploaded = files.upload()"
      ],
      "metadata": {
        "colab": {
          "base_uri": "https://localhost:8080/",
          "height": 73
        },
        "id": "Dz-uy74r15Bn",
        "outputId": "c6ac16b0-16a0-48d1-8428-2ec4932c28f7"
      },
      "execution_count": 7,
      "outputs": [
        {
          "output_type": "display_data",
          "data": {
            "text/plain": [
              "<IPython.core.display.HTML object>"
            ],
            "text/html": [
              "\n",
              "     <input type=\"file\" id=\"files-5729bc59-aa25-4e87-9aec-5d87885c8d10\" name=\"files[]\" multiple disabled\n",
              "        style=\"border:none\" />\n",
              "     <output id=\"result-5729bc59-aa25-4e87-9aec-5d87885c8d10\">\n",
              "      Upload widget is only available when the cell has been executed in the\n",
              "      current browser session. Please rerun this cell to enable.\n",
              "      </output>\n",
              "      <script>// Copyright 2017 Google LLC\n",
              "//\n",
              "// Licensed under the Apache License, Version 2.0 (the \"License\");\n",
              "// you may not use this file except in compliance with the License.\n",
              "// You may obtain a copy of the License at\n",
              "//\n",
              "//      http://www.apache.org/licenses/LICENSE-2.0\n",
              "//\n",
              "// Unless required by applicable law or agreed to in writing, software\n",
              "// distributed under the License is distributed on an \"AS IS\" BASIS,\n",
              "// WITHOUT WARRANTIES OR CONDITIONS OF ANY KIND, either express or implied.\n",
              "// See the License for the specific language governing permissions and\n",
              "// limitations under the License.\n",
              "\n",
              "/**\n",
              " * @fileoverview Helpers for google.colab Python module.\n",
              " */\n",
              "(function(scope) {\n",
              "function span(text, styleAttributes = {}) {\n",
              "  const element = document.createElement('span');\n",
              "  element.textContent = text;\n",
              "  for (const key of Object.keys(styleAttributes)) {\n",
              "    element.style[key] = styleAttributes[key];\n",
              "  }\n",
              "  return element;\n",
              "}\n",
              "\n",
              "// Max number of bytes which will be uploaded at a time.\n",
              "const MAX_PAYLOAD_SIZE = 100 * 1024;\n",
              "\n",
              "function _uploadFiles(inputId, outputId) {\n",
              "  const steps = uploadFilesStep(inputId, outputId);\n",
              "  const outputElement = document.getElementById(outputId);\n",
              "  // Cache steps on the outputElement to make it available for the next call\n",
              "  // to uploadFilesContinue from Python.\n",
              "  outputElement.steps = steps;\n",
              "\n",
              "  return _uploadFilesContinue(outputId);\n",
              "}\n",
              "\n",
              "// This is roughly an async generator (not supported in the browser yet),\n",
              "// where there are multiple asynchronous steps and the Python side is going\n",
              "// to poll for completion of each step.\n",
              "// This uses a Promise to block the python side on completion of each step,\n",
              "// then passes the result of the previous step as the input to the next step.\n",
              "function _uploadFilesContinue(outputId) {\n",
              "  const outputElement = document.getElementById(outputId);\n",
              "  const steps = outputElement.steps;\n",
              "\n",
              "  const next = steps.next(outputElement.lastPromiseValue);\n",
              "  return Promise.resolve(next.value.promise).then((value) => {\n",
              "    // Cache the last promise value to make it available to the next\n",
              "    // step of the generator.\n",
              "    outputElement.lastPromiseValue = value;\n",
              "    return next.value.response;\n",
              "  });\n",
              "}\n",
              "\n",
              "/**\n",
              " * Generator function which is called between each async step of the upload\n",
              " * process.\n",
              " * @param {string} inputId Element ID of the input file picker element.\n",
              " * @param {string} outputId Element ID of the output display.\n",
              " * @return {!Iterable<!Object>} Iterable of next steps.\n",
              " */\n",
              "function* uploadFilesStep(inputId, outputId) {\n",
              "  const inputElement = document.getElementById(inputId);\n",
              "  inputElement.disabled = false;\n",
              "\n",
              "  const outputElement = document.getElementById(outputId);\n",
              "  outputElement.innerHTML = '';\n",
              "\n",
              "  const pickedPromise = new Promise((resolve) => {\n",
              "    inputElement.addEventListener('change', (e) => {\n",
              "      resolve(e.target.files);\n",
              "    });\n",
              "  });\n",
              "\n",
              "  const cancel = document.createElement('button');\n",
              "  inputElement.parentElement.appendChild(cancel);\n",
              "  cancel.textContent = 'Cancel upload';\n",
              "  const cancelPromise = new Promise((resolve) => {\n",
              "    cancel.onclick = () => {\n",
              "      resolve(null);\n",
              "    };\n",
              "  });\n",
              "\n",
              "  // Wait for the user to pick the files.\n",
              "  const files = yield {\n",
              "    promise: Promise.race([pickedPromise, cancelPromise]),\n",
              "    response: {\n",
              "      action: 'starting',\n",
              "    }\n",
              "  };\n",
              "\n",
              "  cancel.remove();\n",
              "\n",
              "  // Disable the input element since further picks are not allowed.\n",
              "  inputElement.disabled = true;\n",
              "\n",
              "  if (!files) {\n",
              "    return {\n",
              "      response: {\n",
              "        action: 'complete',\n",
              "      }\n",
              "    };\n",
              "  }\n",
              "\n",
              "  for (const file of files) {\n",
              "    const li = document.createElement('li');\n",
              "    li.append(span(file.name, {fontWeight: 'bold'}));\n",
              "    li.append(span(\n",
              "        `(${file.type || 'n/a'}) - ${file.size} bytes, ` +\n",
              "        `last modified: ${\n",
              "            file.lastModifiedDate ? file.lastModifiedDate.toLocaleDateString() :\n",
              "                                    'n/a'} - `));\n",
              "    const percent = span('0% done');\n",
              "    li.appendChild(percent);\n",
              "\n",
              "    outputElement.appendChild(li);\n",
              "\n",
              "    const fileDataPromise = new Promise((resolve) => {\n",
              "      const reader = new FileReader();\n",
              "      reader.onload = (e) => {\n",
              "        resolve(e.target.result);\n",
              "      };\n",
              "      reader.readAsArrayBuffer(file);\n",
              "    });\n",
              "    // Wait for the data to be ready.\n",
              "    let fileData = yield {\n",
              "      promise: fileDataPromise,\n",
              "      response: {\n",
              "        action: 'continue',\n",
              "      }\n",
              "    };\n",
              "\n",
              "    // Use a chunked sending to avoid message size limits. See b/62115660.\n",
              "    let position = 0;\n",
              "    do {\n",
              "      const length = Math.min(fileData.byteLength - position, MAX_PAYLOAD_SIZE);\n",
              "      const chunk = new Uint8Array(fileData, position, length);\n",
              "      position += length;\n",
              "\n",
              "      const base64 = btoa(String.fromCharCode.apply(null, chunk));\n",
              "      yield {\n",
              "        response: {\n",
              "          action: 'append',\n",
              "          file: file.name,\n",
              "          data: base64,\n",
              "        },\n",
              "      };\n",
              "\n",
              "      let percentDone = fileData.byteLength === 0 ?\n",
              "          100 :\n",
              "          Math.round((position / fileData.byteLength) * 100);\n",
              "      percent.textContent = `${percentDone}% done`;\n",
              "\n",
              "    } while (position < fileData.byteLength);\n",
              "  }\n",
              "\n",
              "  // All done.\n",
              "  yield {\n",
              "    response: {\n",
              "      action: 'complete',\n",
              "    }\n",
              "  };\n",
              "}\n",
              "\n",
              "scope.google = scope.google || {};\n",
              "scope.google.colab = scope.google.colab || {};\n",
              "scope.google.colab._files = {\n",
              "  _uploadFiles,\n",
              "  _uploadFilesContinue,\n",
              "};\n",
              "})(self);\n",
              "</script> "
            ]
          },
          "metadata": {}
        },
        {
          "output_type": "stream",
          "name": "stdout",
          "text": [
            "Saving test1.csv to test1.csv\n"
          ]
        }
      ]
    },
    {
      "cell_type": "markdown",
      "source": [
        "## Прочитать данные как строки\n",
        "## Lire les données sous forme de chaînes"
      ],
      "metadata": {
        "id": "BiG3e4u34deM"
      }
    },
    {
      "cell_type": "code",
      "source": [
        "# прочитать данные как набор строк файла, первая строка = название столбцов\n",
        "# lire les données comme un ensemble de lignes de fichier\n",
        "df_pyspark  = spark.read.option('header', 'true').csv('test1.csv')\n",
        "df_pyspark.show()"
      ],
      "metadata": {
        "id": "palKk6jh18h4",
        "colab": {
          "base_uri": "https://localhost:8080/"
        },
        "outputId": "a0d63eb2-e847-49ba-e0cc-c3a23304db1c"
      },
      "execution_count": 8,
      "outputs": [
        {
          "output_type": "stream",
          "name": "stdout",
          "text": [
            "+---------+---+----------+------+\n",
            "|     Name|age|Experience|Salary|\n",
            "+---------+---+----------+------+\n",
            "|    Krish| 31|        10| 30000|\n",
            "|Sudhanshu| 30|         8| 25000|\n",
            "|    Sunny| 29|         4| 20000|\n",
            "|     Paul| 24|         3| 20000|\n",
            "|   Harsha| 21|         1| 15000|\n",
            "|  Shubham| 23|         2| 18000|\n",
            "+---------+---+----------+------+\n",
            "\n"
          ]
        }
      ]
    },
    {
      "cell_type": "code",
      "source": [
        "# проверить схему дата фрейма (имя, возраст, опыт работы, зарплата), все данные строки\n",
        "# vérifier le schéma de cadre de date (nom, âge, expérience de travail, salaire) , toutes les données de ligne\n",
        "df_pyspark.printSchema()"
      ],
      "metadata": {
        "id": "Kh3yf0Io2_Go",
        "colab": {
          "base_uri": "https://localhost:8080/"
        },
        "outputId": "a1303adf-dd8f-46ea-8bc7-5df424d9b3cb"
      },
      "execution_count": 9,
      "outputs": [
        {
          "output_type": "stream",
          "name": "stdout",
          "text": [
            "root\n",
            " |-- Name: string (nullable = true)\n",
            " |-- age: string (nullable = true)\n",
            " |-- Experience: string (nullable = true)\n",
            " |-- Salary: string (nullable = true)\n",
            "\n"
          ]
        }
      ]
    },
    {
      "cell_type": "markdown",
      "source": [
        "## Прочитать данные с учетом типов (строки, числа и прочее)\n",
        "## Lire les données en tenant compte des types (chaînes, nombres, etc.)"
      ],
      "metadata": {
        "id": "AQQ_ox_H4k6g"
      }
    },
    {
      "cell_type": "code",
      "source": [
        "# прочитать данные как набор строк файла, первая строка = название столбцов\n",
        "# lire les données comme un ensemble de lignes de fichier\n",
        "df_pyspark  = spark.read.option('header', 'true').csv('test1.csv', inferSchema=True)\n",
        "df_pyspark.show()"
      ],
      "metadata": {
        "id": "x0nNMl6r3Z74",
        "colab": {
          "base_uri": "https://localhost:8080/"
        },
        "outputId": "cabdcd79-d6bd-4779-8fc8-7549a5123a1a"
      },
      "execution_count": 10,
      "outputs": [
        {
          "output_type": "stream",
          "name": "stdout",
          "text": [
            "+---------+---+----------+------+\n",
            "|     Name|age|Experience|Salary|\n",
            "+---------+---+----------+------+\n",
            "|    Krish| 31|        10| 30000|\n",
            "|Sudhanshu| 30|         8| 25000|\n",
            "|    Sunny| 29|         4| 20000|\n",
            "|     Paul| 24|         3| 20000|\n",
            "|   Harsha| 21|         1| 15000|\n",
            "|  Shubham| 23|         2| 18000|\n",
            "+---------+---+----------+------+\n",
            "\n"
          ]
        }
      ]
    },
    {
      "cell_type": "code",
      "source": [
        "# проверить схему дата фрейма (имя, возраст, опыт работы, зарплата), типы данных прочитаны верно\n",
        "# vérifier le schéma cadre date (nom, âge ,expérience de travail, salaire) , les types de données sont lus correctement\n",
        "df_pyspark.printSchema()"
      ],
      "metadata": {
        "id": "snRM7xIl4FiG",
        "colab": {
          "base_uri": "https://localhost:8080/"
        },
        "outputId": "0a3a2d26-532e-489c-dcb5-51c54a4ef963"
      },
      "execution_count": 11,
      "outputs": [
        {
          "output_type": "stream",
          "name": "stdout",
          "text": [
            "root\n",
            " |-- Name: string (nullable = true)\n",
            " |-- age: integer (nullable = true)\n",
            " |-- Experience: integer (nullable = true)\n",
            " |-- Salary: integer (nullable = true)\n",
            "\n"
          ]
        }
      ]
    },
    {
      "cell_type": "markdown",
      "source": [
        "## Прочитать данные с учетом типов (строки, числа и прочее) и вывести заголовок\n",
        "## Lire les données en tenant compte des types (chaînes, nombres, etc.) et afficher l'en-tête"
      ],
      "metadata": {
        "id": "bP3N-Wky44SQ"
      }
    },
    {
      "cell_type": "code",
      "source": [
        "# прочитать данные как набор строк файла, первая строка = название столбцов\n",
        "# lire les données comme un ensemble de lignes de fichier\n",
        "df_pyspark  = spark.read.option('header', 'true').csv('test1.csv', inferSchema=True, header=True)\n",
        "df_pyspark.show()"
      ],
      "metadata": {
        "id": "gPTb2qvO4ICe",
        "colab": {
          "base_uri": "https://localhost:8080/"
        },
        "outputId": "d7f38bd2-f7de-4337-a8ce-8d343a8c35bb"
      },
      "execution_count": 12,
      "outputs": [
        {
          "output_type": "stream",
          "name": "stdout",
          "text": [
            "+---------+---+----------+------+\n",
            "|     Name|age|Experience|Salary|\n",
            "+---------+---+----------+------+\n",
            "|    Krish| 31|        10| 30000|\n",
            "|Sudhanshu| 30|         8| 25000|\n",
            "|    Sunny| 29|         4| 20000|\n",
            "|     Paul| 24|         3| 20000|\n",
            "|   Harsha| 21|         1| 15000|\n",
            "|  Shubham| 23|         2| 18000|\n",
            "+---------+---+----------+------+\n",
            "\n"
          ]
        }
      ]
    },
    {
      "cell_type": "code",
      "source": [
        "# проверить схему дата фрейма (имя, возраст, опыт работы, зарплата), типы данных прочитаны верно\n",
        "# vérifier le schéma cadre date (nom, âge ,expérience de travail, salaire) , les types de données sont lus correctement\n",
        "df_pyspark.printSchema()"
      ],
      "metadata": {
        "id": "oegJtAYB5CsP",
        "colab": {
          "base_uri": "https://localhost:8080/"
        },
        "outputId": "6c3aabdf-ba62-40ed-8c97-618f4723677e"
      },
      "execution_count": 13,
      "outputs": [
        {
          "output_type": "stream",
          "name": "stdout",
          "text": [
            "root\n",
            " |-- Name: string (nullable = true)\n",
            " |-- age: integer (nullable = true)\n",
            " |-- Experience: integer (nullable = true)\n",
            " |-- Salary: integer (nullable = true)\n",
            "\n"
          ]
        }
      ]
    },
    {
      "cell_type": "code",
      "source": [
        "# тип дата фреймы = дата фрейм sparks (структура данных для выполнения операций внутри нее)\n",
        "# type date frames = date Frame sparks (structure de données pour effectuer des opérations à l'intérieur)\n",
        "type(df_pyspark)"
      ],
      "metadata": {
        "id": "nefm0G5-5MaK",
        "colab": {
          "base_uri": "https://localhost:8080/"
        },
        "outputId": "64796417-47a6-482d-c261-081748be1184"
      },
      "execution_count": 14,
      "outputs": [
        {
          "output_type": "execute_result",
          "data": {
            "text/plain": [
              "pyspark.sql.dataframe.DataFrame"
            ]
          },
          "metadata": {},
          "execution_count": 14
        }
      ]
    },
    {
      "cell_type": "markdown",
      "source": [
        "## Работа со строками и столбцами\n",
        "## Utilisation de lignes et de colonnes"
      ],
      "metadata": {
        "id": "zT4FvJGO5zdA"
      }
    },
    {
      "cell_type": "code",
      "source": [
        "# вывести список столбцов дата фрейма\n",
        "# afficher la liste des colonnes date Frame\n",
        "df_pyspark.columns"
      ],
      "metadata": {
        "id": "lWmnHcjy5QFM",
        "colab": {
          "base_uri": "https://localhost:8080/"
        },
        "outputId": "434d79e9-3e1b-4976-ea4e-7b15cdfc8b41"
      },
      "execution_count": 15,
      "outputs": [
        {
          "output_type": "execute_result",
          "data": {
            "text/plain": [
              "['Name', 'age', 'Experience', 'Salary']"
            ]
          },
          "metadata": {},
          "execution_count": 15
        }
      ]
    },
    {
      "cell_type": "code",
      "source": [
        "# вывести три первых записи дата фрейма\n",
        "# afficher les trois premières entrées date Frame\n",
        "df_pyspark.head(3)"
      ],
      "metadata": {
        "id": "O6OFyLXf6m8z",
        "colab": {
          "base_uri": "https://localhost:8080/"
        },
        "outputId": "edc5c257-f53a-4ee8-9eff-86babc38aa55"
      },
      "execution_count": 16,
      "outputs": [
        {
          "output_type": "execute_result",
          "data": {
            "text/plain": [
              "[Row(Name='Krish', age=31, Experience=10, Salary=30000),\n",
              " Row(Name='Sudhanshu', age=30, Experience=8, Salary=25000),\n",
              " Row(Name='Sunny', age=29, Experience=4, Salary=20000)]"
            ]
          },
          "metadata": {},
          "execution_count": 16
        }
      ]
    },
    {
      "cell_type": "code",
      "source": [
        "# вывести все записи первого столбца (имя)\n",
        "# afficher tous les enregistrements de la première colonne (nom)\n",
        "df_pyspark.select('Name').show()"
      ],
      "metadata": {
        "id": "oqPngT8m6yrp",
        "colab": {
          "base_uri": "https://localhost:8080/"
        },
        "outputId": "9dfb3150-4fc3-4469-d7e3-fbafb02679d6"
      },
      "execution_count": 17,
      "outputs": [
        {
          "output_type": "stream",
          "name": "stdout",
          "text": [
            "+---------+\n",
            "|     Name|\n",
            "+---------+\n",
            "|    Krish|\n",
            "|Sudhanshu|\n",
            "|    Sunny|\n",
            "|     Paul|\n",
            "|   Harsha|\n",
            "|  Shubham|\n",
            "+---------+\n",
            "\n"
          ]
        }
      ]
    },
    {
      "cell_type": "code",
      "source": [
        "# тип данной записи есть pyspark дата фрейм (не pandas дата фрейм)\n",
        "# le type de cette entrée est pyspark date Frame (pas pandas date Frame)\n",
        "type(df_pyspark.select('Name'))"
      ],
      "metadata": {
        "id": "fw2tOsEB7qCD",
        "colab": {
          "base_uri": "https://localhost:8080/"
        },
        "outputId": "fc0b43ab-d700-4017-9eb4-d2c14a2de493"
      },
      "execution_count": 18,
      "outputs": [
        {
          "output_type": "execute_result",
          "data": {
            "text/plain": [
              "pyspark.sql.dataframe.DataFrame"
            ]
          },
          "metadata": {},
          "execution_count": 18
        }
      ]
    },
    {
      "cell_type": "code",
      "source": [
        "# вывести все записи первого и третьего столбца (имя, опыт работы)\n",
        "# afficher tous les enregistrements de la première et de la troisième colonne (nom, expérience)\n",
        "df_pyspark.select(['Name','Experience']).show()"
      ],
      "metadata": {
        "id": "a73D4XHb8BYc",
        "colab": {
          "base_uri": "https://localhost:8080/"
        },
        "outputId": "05a83a32-2d54-4ac0-df0d-4ffffa35f7cd"
      },
      "execution_count": 19,
      "outputs": [
        {
          "output_type": "stream",
          "name": "stdout",
          "text": [
            "+---------+----------+\n",
            "|     Name|Experience|\n",
            "+---------+----------+\n",
            "|    Krish|        10|\n",
            "|Sudhanshu|         8|\n",
            "|    Sunny|         4|\n",
            "|     Paul|         3|\n",
            "|   Harsha|         1|\n",
            "|  Shubham|         2|\n",
            "+---------+----------+\n",
            "\n"
          ]
        }
      ]
    },
    {
      "cell_type": "code",
      "source": [
        "# получить столбец (нельзя получить данные, это способ pandas, тут так не сработает)\n",
        "# obtenir la colonne (vous ne pouvez pas obtenir les données, c'est la façon dont pandas, ici cela ne fonctionnera pas)\n",
        "df_pyspark['Name']"
      ],
      "metadata": {
        "id": "4TlcYAjB8n8G",
        "colab": {
          "base_uri": "https://localhost:8080/"
        },
        "outputId": "990d2e9d-c8e6-4993-a458-cbb2acbb72df"
      },
      "execution_count": 20,
      "outputs": [
        {
          "output_type": "execute_result",
          "data": {
            "text/plain": [
              "Column<'Name'>"
            ]
          },
          "metadata": {},
          "execution_count": 20
        }
      ]
    },
    {
      "cell_type": "markdown",
      "source": [
        "## Проверка типов данных дата фрейма\n",
        "## Vérification des types de données date de trame"
      ],
      "metadata": {
        "id": "Zir4bHdR9de-"
      }
    },
    {
      "cell_type": "code",
      "source": [
        "# прочитать названия полей и типы полей\n",
        "# lire les noms de champs et les types de champs\n",
        "df_pyspark.dtypes"
      ],
      "metadata": {
        "id": "nQjW-epj89gp",
        "colab": {
          "base_uri": "https://localhost:8080/"
        },
        "outputId": "41f116e5-27ba-4909-c5ac-5a3f7179d2f1"
      },
      "execution_count": 24,
      "outputs": [
        {
          "output_type": "execute_result",
          "data": {
            "text/plain": [
              "[('Name', 'string'), ('age', 'int'), ('Experience', 'int'), ('Salary', 'int')]"
            ]
          },
          "metadata": {},
          "execution_count": 24
        }
      ]
    },
    {
      "cell_type": "code",
      "source": [
        "# прочитать сводку про поля и их типы\n",
        "# lire le résumé sur les champs et leurs types\n",
        "df_pyspark.describe().show()"
      ],
      "metadata": {
        "colab": {
          "base_uri": "https://localhost:8080/"
        },
        "id": "2PG-Eo-SngNh",
        "outputId": "043aa887-e4e0-4d1c-b27e-1bf1c32f3f2d"
      },
      "execution_count": 23,
      "outputs": [
        {
          "output_type": "stream",
          "name": "stdout",
          "text": [
            "+-------+------+------------------+-----------------+------------------+\n",
            "|summary|  Name|               age|       Experience|            Salary|\n",
            "+-------+------+------------------+-----------------+------------------+\n",
            "|  count|     6|                 6|                6|                 6|\n",
            "|   mean|  null|26.333333333333332|4.666666666666667|21333.333333333332|\n",
            "| stddev|  null| 4.179314138308661|3.559026084010437| 5354.126134736337|\n",
            "|    min|Harsha|                21|                1|             15000|\n",
            "|    max| Sunny|                31|               10|             30000|\n",
            "+-------+------+------------------+-----------------+------------------+\n",
            "\n"
          ]
        }
      ]
    },
    {
      "cell_type": "markdown",
      "source": [
        "## Добавление, удаление полей дата сета\n",
        "## Ajouter, supprimer des champs date du set"
      ],
      "metadata": {
        "id": "fZ_Q2MZlocAK"
      }
    },
    {
      "cell_type": "code",
      "source": [
        "# добавить новое поле, данные в котором = опыт + 2 года\n",
        "# ajouter un nouveau champ de données dans lequel = expérience + 2 ans\n",
        "df_pyspark.withColumn('Experience after 2 year', df_pyspark['Experience']+2).show()"
      ],
      "metadata": {
        "colab": {
          "base_uri": "https://localhost:8080/"
        },
        "id": "k1BMdF7cnydp",
        "outputId": "d7e245f2-4e0b-45ce-a475-99b9479e498a"
      },
      "execution_count": 28,
      "outputs": [
        {
          "output_type": "stream",
          "name": "stdout",
          "text": [
            "+---------+---+----------+------+-----------------------+\n",
            "|     Name|age|Experience|Salary|Experience after 2 year|\n",
            "+---------+---+----------+------+-----------------------+\n",
            "|    Krish| 31|        10| 30000|                     12|\n",
            "|Sudhanshu| 30|         8| 25000|                     10|\n",
            "|    Sunny| 29|         4| 20000|                      6|\n",
            "|     Paul| 24|         3| 20000|                      5|\n",
            "|   Harsha| 21|         1| 15000|                      3|\n",
            "|  Shubham| 23|         2| 18000|                      4|\n",
            "+---------+---+----------+------+-----------------------+\n",
            "\n"
          ]
        }
      ]
    },
    {
      "cell_type": "code",
      "source": [
        "# лучше делать так, чтобы новый дата фрейм стал копией старого + еще одно поле\n",
        "# il est préférable de faire en sorte que le nouveau cadre de date devienne une copie de l'ancien + un autre champ\n",
        "df_pyspark = df_pyspark.withColumn('Experience after 2 year', df_pyspark['Experience']+2)"
      ],
      "metadata": {
        "id": "yt6d2pK_p1Jy"
      },
      "execution_count": 29,
      "outputs": []
    },
    {
      "cell_type": "code",
      "source": [
        "# показать содержимое нового дата фрейма\n",
        "# afficher le contenu du nouveau cadre date\n",
        "df_pyspark.show()"
      ],
      "metadata": {
        "colab": {
          "base_uri": "https://localhost:8080/"
        },
        "id": "l6nfUbYbqBnZ",
        "outputId": "17cb26bd-7e77-47cc-a364-ef5925fbd68e"
      },
      "execution_count": 31,
      "outputs": [
        {
          "output_type": "stream",
          "name": "stdout",
          "text": [
            "+---------+---+----------+------+-----------------------+\n",
            "|     Name|age|Experience|Salary|Experience after 2 year|\n",
            "+---------+---+----------+------+-----------------------+\n",
            "|    Krish| 31|        10| 30000|                     12|\n",
            "|Sudhanshu| 30|         8| 25000|                     10|\n",
            "|    Sunny| 29|         4| 20000|                      6|\n",
            "|     Paul| 24|         3| 20000|                      5|\n",
            "|   Harsha| 21|         1| 15000|                      3|\n",
            "|  Shubham| 23|         2| 18000|                      4|\n",
            "+---------+---+----------+------+-----------------------+\n",
            "\n"
          ]
        }
      ]
    },
    {
      "cell_type": "code",
      "source": [
        "# удалить из текущего дата сета столбец и сохранить это в дата сете\n",
        "# supprimer de la date actuelle set colonne et l'enregistrer dans la date set\n",
        "df_pyspark = df_pyspark.drop('Experience after 2 year')\n",
        "df_pyspark.show()"
      ],
      "metadata": {
        "colab": {
          "base_uri": "https://localhost:8080/"
        },
        "id": "gF1Wdvw1qBjP",
        "outputId": "a45a75d3-7796-4055-a252-2c6543d724eb"
      },
      "execution_count": 34,
      "outputs": [
        {
          "output_type": "stream",
          "name": "stdout",
          "text": [
            "+---------+---+----------+------+\n",
            "|     Name|age|Experience|Salary|\n",
            "+---------+---+----------+------+\n",
            "|    Krish| 31|        10| 30000|\n",
            "|Sudhanshu| 30|         8| 25000|\n",
            "|    Sunny| 29|         4| 20000|\n",
            "|     Paul| 24|         3| 20000|\n",
            "|   Harsha| 21|         1| 15000|\n",
            "|  Shubham| 23|         2| 18000|\n",
            "+---------+---+----------+------+\n",
            "\n"
          ]
        }
      ]
    },
    {
      "cell_type": "code",
      "source": [
        "# переименование колонки дата сета и сохранить это в дата сете\n",
        "# renommer la colonne date set et enregistrez-le dans la date set\n",
        "df_pyspark = df_pyspark.withColumnRenamed('Name', 'New name')\n",
        "df_pyspark.show()"
      ],
      "metadata": {
        "colab": {
          "base_uri": "https://localhost:8080/"
        },
        "id": "NhekeQxqqBXP",
        "outputId": "6efa6f4c-3688-4350-d9e3-5baf1970c0bf"
      },
      "execution_count": 38,
      "outputs": [
        {
          "output_type": "stream",
          "name": "stdout",
          "text": [
            "+---------+---+----------+------+\n",
            "| New name|age|Experience|Salary|\n",
            "+---------+---+----------+------+\n",
            "|    Krish| 31|        10| 30000|\n",
            "|Sudhanshu| 30|         8| 25000|\n",
            "|    Sunny| 29|         4| 20000|\n",
            "|     Paul| 24|         3| 20000|\n",
            "|   Harsha| 21|         1| 15000|\n",
            "|  Shubham| 23|         2| 18000|\n",
            "+---------+---+----------+------+\n",
            "\n"
          ]
        }
      ]
    }
  ]
}